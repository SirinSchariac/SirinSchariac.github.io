{
 "cells": [
  {
   "cell_type": "code",
   "execution_count": 9,
   "metadata": {},
   "outputs": [
    {
     "data": {
      "text/plain": [
       "True"
      ]
     },
     "execution_count": 9,
     "metadata": {},
     "output_type": "execute_result"
    }
   ],
   "source": [
    "import numpy as np\n",
    "import cv2 as cv\n",
    "\n",
    "img = cv.imread(\"Starsky.jpg\")\n",
    "\n",
    "hsv = cv.cvtColor(img, cv.COLOR_BGR2HSV) #convert it to hsv\n",
    "\n",
    "value = -1\n",
    "\n",
    "for x in range(0, len(hsv)):\n",
    "    for y in range(0, len(hsv[0])):\n",
    "        hsv[x, y][2] += value\n",
    "\n",
    "img = cv.cvtColor(hsv, cv.COLOR_HSV2BGR)\n",
    "cv.imwrite(\"bg-sky.jpg\", img)"
   ]
  }
 ],
 "metadata": {
  "kernelspec": {
   "display_name": "base",
   "language": "python",
   "name": "python3"
  },
  "language_info": {
   "codemirror_mode": {
    "name": "ipython",
    "version": 3
   },
   "file_extension": ".py",
   "mimetype": "text/x-python",
   "name": "python",
   "nbconvert_exporter": "python",
   "pygments_lexer": "ipython3",
   "version": "3.9.16"
  }
 },
 "nbformat": 4,
 "nbformat_minor": 2
}
